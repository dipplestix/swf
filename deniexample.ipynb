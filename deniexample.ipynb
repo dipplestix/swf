{
 "cells": [
  {
   "cell_type": "code",
   "execution_count": 69,
   "outputs": [
    {
     "name": "stdout",
     "output_type": "stream",
     "text": [
      "0\n",
      "10\n",
      "20\n",
      "30\n",
      "40\n",
      "50\n",
      "60\n",
      "70\n",
      "80\n",
      "90\n"
     ]
    }
   ],
   "source": [
    "import numpy as np\n",
    "\n",
    "# gamma = .5\n",
    "\n",
    "def swf(u1, u2):\n",
    "    return np.sum(np.log([u1, u2]))\n",
    "    # return u1*u2\n",
    "\n",
    "myopic = []\n",
    "utils = []\n",
    "for gamma in range(98):\n",
    "    u1 = 0\n",
    "    u2 = 0\n",
    "    if gamma % 10 == 0:\n",
    "        print(gamma)\n",
    "    gamma = (gamma+1)/100\n",
    "    for t in range(10000):\n",
    "        g = gamma**t\n",
    "        val_a = swf(u1 + g*1, u2 + g*2)\n",
    "        val_b = swf(u1 + g*4, u2 + g*1)\n",
    "        if val_a > val_b:\n",
    "            # print(f'I have selected action a at time step {t}')\n",
    "            u1 += g*1\n",
    "            u2 += g*2\n",
    "        else:\n",
    "            # print(f'I have selected action b at time step {t}')\n",
    "            u1 += g*3\n",
    "            u2 += g*1\n",
    "    utils.append(swf(u1, u2))\n",
    "    myopic.append(swf(4/(1-gamma), 1/(1-gamma)))\n"
   ],
   "metadata": {
    "collapsed": false,
    "pycharm": {
     "name": "#%%\n"
    }
   }
  },
  {
   "cell_type": "code",
   "execution_count": 70,
   "outputs": [
    {
     "name": "stderr",
     "output_type": "stream",
     "text": [
      "C:\\Users\\Chris\\AppData\\Local\\Temp\\ipykernel_78352\\457930391.py:16: UserWarning: Matplotlib is currently using module://matplotlib_inline.backend_inline, which is a non-GUI backend, so cannot show the figure.\n",
      "  fig.show()\n"
     ]
    },
    {
     "data": {
      "text/plain": "<Figure size 432x288 with 1 Axes>",
      "image/png": "[encoded data removed]"
     },
     "metadata": {
      "needs_background": "light"
     },
     "output_type": "display_data"
    }
   ],
   "source": [
    "import matplotlib.pyplot as plt\n",
    "\n",
    "fig = plt.figure()\n",
    "x = np.arange(.01, .99, .01)\n",
    "ax = fig.add_subplot()\n",
    "ax.plot(x, myopic, label='Myopic')\n",
    "ax.plot(x, utils, label='Global')\n",
    "x_ticks = [(a + 1)/100 for a in range(99)]\n",
    "x = range(99)\n",
    "plt.xlabel('gamma')\n",
    "plt.ylabel('Social Welfare')\n",
    "# ax.set_xticks(np.arange(0, 100, 5))\n",
    "# [l.set_visible(False) for (i,l) in enumerate(plt.xaxis.get_ticklabels()) if i % 10 != 0]\n",
    "\n",
    "plt.legend()\n",
    "fig.show()"
   ],
   "metadata": {
    "collapsed": false,
    "pycharm": {
     "name": "#%%\n"
    }
   }
  },
  {
   "cell_type": "code",
   "execution_count": 68,
   "outputs": [
    {
     "data": {
      "text/plain": "2.81299413687482"
     },
     "execution_count": 68,
     "metadata": {},
     "output_type": "execute_result"
    }
   ],
   "source": [
    "myopic[50]"
   ],
   "metadata": {
    "collapsed": false,
    "pycharm": {
     "name": "#%%\n"
    }
   }
  },
  {
   "cell_type": "code",
   "execution_count": 67,
   "outputs": [
    {
     "data": {
      "text/plain": "2.8336086317224165"
     },
     "execution_count": 67,
     "metadata": {},
     "output_type": "execute_result"
    }
   ],
   "source": [
    "utils[50]"
   ],
   "metadata": {
    "collapsed": false,
    "pycharm": {
     "name": "#%%\n"
    }
   }
  },
  {
   "cell_type": "code",
   "execution_count": 13,
   "outputs": [
    {
     "name": "stdout",
     "output_type": "stream",
     "text": [
      "8.0\n",
      "2.0\n",
      "16.0\n"
     ]
    }
   ],
   "source": [
    "u1 = 0\n",
    "u2 = 0\n",
    "gamma = .5\n",
    "\n",
    "def swf(u1, u2):\n",
    "    return u1*u2\n",
    "\n",
    "for t in range(1000):\n",
    "    g = gamma**t\n",
    "    val_a = swf(u1 + g*1, u2 + g*2)\n",
    "    val_b = swf(u1 + g*4, u2 + g*1)\n",
    "    u1 += g*4\n",
    "    u2 += g*1\n",
    "print(swf(u1, u2))"
   ],
   "metadata": {
    "collapsed": false,
    "pycharm": {
     "name": "#%%\n"
    }
   }
  },
  {
   "cell_type": "code",
   "execution_count": 36,
   "outputs": [
    {
     "name": "stdout",
     "output_type": "stream",
     "text": [
      "I have selected action a at time step 2\n",
      "I have selected action a at time step 9\n",
      "I have selected action a at time step 14\n",
      "I have selected action a at time step 21\n",
      "I have selected action a at time step 26\n",
      "I have selected action a at time step 33\n",
      "I have selected action a at time step 38\n",
      "I have selected action a at time step 45\n",
      "I have selected action a at time step 50\n",
      "I have selected action a at time step 57\n",
      "I have selected action a at time step 62\n",
      "I have selected action a at time step 69\n",
      "I have selected action a at time step 74\n",
      "I have selected action a at time step 81\n",
      "I have selected action a at time step 86\n",
      "I have selected action a at time step 93\n",
      "I have selected action a at time step 98\n",
      "I have selected action a at time step 105\n",
      "I have selected action a at time step 110\n",
      "I have selected action a at time step 117\n",
      "I have selected action a at time step 122\n",
      "I have selected action a at time step 129\n",
      "I have selected action a at time step 134\n",
      "I have selected action a at time step 141\n",
      "I have selected action a at time step 146\n",
      "I have selected action a at time step 153\n",
      "I have selected action a at time step 158\n",
      "I have selected action a at time step 165\n",
      "I have selected action a at time step 170\n",
      "I have selected action a at time step 177\n",
      "I have selected action a at time step 182\n",
      "I have selected action a at time step 189\n",
      "I have selected action a at time step 194\n",
      "I have selected action a at time step 201\n",
      "I have selected action a at time step 206\n",
      "I have selected action a at time step 213\n",
      "I have selected action a at time step 218\n",
      "I have selected action a at time step 225\n",
      "I have selected action a at time step 230\n",
      "I have selected action a at time step 237\n",
      "I have selected action a at time step 242\n",
      "I have selected action a at time step 249\n",
      "I have selected action a at time step 254\n",
      "I have selected action a at time step 261\n",
      "I have selected action a at time step 266\n",
      "I have selected action a at time step 273\n",
      "I have selected action a at time step 278\n",
      "I have selected action a at time step 285\n",
      "I have selected action a at time step 290\n",
      "I have selected action a at time step 297\n",
      "I have selected action a at time step 303\n",
      "I have selected action a at time step 308\n",
      "I have selected action a at time step 315\n",
      "I have selected action a at time step 320\n",
      "I have selected action a at time step 327\n",
      "I have selected action a at time step 332\n",
      "I have selected action a at time step 339\n",
      "I have selected action a at time step 344\n",
      "I have selected action a at time step 351\n",
      "I have selected action a at time step 356\n",
      "I have selected action a at time step 363\n",
      "I have selected action a at time step 368\n",
      "I have selected action a at time step 375\n",
      "I have selected action a at time step 380\n",
      "I have selected action a at time step 387\n",
      "I have selected action a at time step 392\n",
      "I have selected action a at time step 399\n",
      "I have selected action a at time step 404\n",
      "I have selected action a at time step 411\n",
      "I have selected action a at time step 416\n",
      "I have selected action a at time step 423\n",
      "I have selected action a at time step 428\n",
      "I have selected action a at time step 435\n",
      "I have selected action a at time step 440\n",
      "I have selected action a at time step 447\n",
      "I have selected action a at time step 452\n",
      "I have selected action a at time step 459\n",
      "I have selected action a at time step 464\n",
      "I have selected action a at time step 471\n",
      "I have selected action a at time step 476\n",
      "I have selected action a at time step 483\n",
      "I have selected action a at time step 488\n",
      "I have selected action a at time step 495\n",
      "I have selected action a at time step 500\n",
      "I have selected action a at time step 507\n",
      "I have selected action a at time step 513\n",
      "I have selected action a at time step 518\n",
      "I have selected action a at time step 525\n",
      "I have selected action a at time step 530\n",
      "I have selected action a at time step 537\n",
      "I have selected action a at time step 542\n",
      "I have selected action a at time step 549\n",
      "I have selected action a at time step 554\n",
      "I have selected action a at time step 561\n",
      "I have selected action a at time step 566\n",
      "I have selected action a at time step 573\n",
      "I have selected action a at time step 578\n",
      "I have selected action a at time step 585\n",
      "I have selected action a at time step 590\n",
      "I have selected action a at time step 597\n",
      "I have selected action a at time step 602\n",
      "I have selected action a at time step 609\n",
      "I have selected action a at time step 614\n",
      "I have selected action a at time step 621\n",
      "I have selected action a at time step 626\n",
      "I have selected action a at time step 633\n",
      "I have selected action a at time step 638\n",
      "I have selected action a at time step 645\n",
      "I have selected action a at time step 650\n",
      "I have selected action a at time step 657\n",
      "I have selected action a at time step 662\n",
      "I have selected action a at time step 669\n",
      "I have selected action a at time step 674\n",
      "I have selected action a at time step 681\n",
      "I have selected action a at time step 686\n",
      "I have selected action a at time step 693\n",
      "I have selected action a at time step 698\n",
      "I have selected action a at time step 705\n",
      "I have selected action a at time step 710\n",
      "I have selected action a at time step 717\n",
      "I have selected action a at time step 722\n",
      "I have selected action a at time step 729\n",
      "I have selected action a at time step 734\n",
      "I have selected action a at time step 741\n",
      "I have selected action a at time step 746\n",
      "I have selected action a at time step 753\n",
      "I have selected action a at time step 758\n",
      "I have selected action a at time step 765\n",
      "I have selected action a at time step 770\n",
      "I have selected action a at time step 777\n",
      "I have selected action a at time step 783\n",
      "I have selected action a at time step 788\n",
      "I have selected action a at time step 795\n",
      "I have selected action a at time step 800\n",
      "I have selected action a at time step 807\n",
      "I have selected action a at time step 812\n",
      "I have selected action a at time step 819\n",
      "I have selected action a at time step 824\n",
      "I have selected action a at time step 831\n",
      "I have selected action a at time step 836\n",
      "I have selected action a at time step 843\n",
      "I have selected action a at time step 848\n",
      "I have selected action a at time step 855\n",
      "I have selected action a at time step 860\n",
      "I have selected action a at time step 867\n",
      "I have selected action a at time step 872\n",
      "I have selected action a at time step 879\n",
      "I have selected action a at time step 884\n",
      "I have selected action a at time step 891\n",
      "I have selected action a at time step 896\n",
      "I have selected action a at time step 903\n",
      "I have selected action a at time step 908\n",
      "I have selected action a at time step 915\n",
      "I have selected action a at time step 920\n",
      "I have selected action a at time step 927\n",
      "I have selected action a at time step 932\n",
      "I have selected action a at time step 939\n",
      "I have selected action a at time step 944\n",
      "I have selected action a at time step 951\n",
      "I have selected action a at time step 956\n",
      "I have selected action a at time step 963\n",
      "I have selected action a at time step 968\n",
      "I have selected action a at time step 975\n",
      "I have selected action a at time step 980\n",
      "I have selected action a at time step 987\n",
      "I have selected action a at time step 992\n",
      "I have selected action a at time step 999\n",
      "349.98484676350046\n",
      "116.66164445443718\n",
      "40829.80775756417\n"
     ]
    }
   ],
   "source": [
    "u1 = 0\n",
    "u2 = 0\n",
    "gamma = .99\n",
    "\n",
    "\n",
    "def swf(u1, u2):\n",
    "    return u1*u2\n",
    "\n",
    "\n",
    "for t in range(1000):\n",
    "    g = gamma ** t\n",
    "    val_a = swf(u1 + g*1, u2 + g*2)\n",
    "    val_b = swf(u1 + g*4, u2 + g*1)\n",
    "    if val_a>val_b:\n",
    "        print(f'I have selected action a at time step {t}')\n",
    "        u1 += g*1\n",
    "        u2 += g*2\n",
    "    else:\n",
    "        # print(f'I have selected action b at time step {t}')\n",
    "        u1 += g*4\n",
    "        u2 += g*1\n",
    "print(u1)\n",
    "print(u2)\n",
    "print(swf(u1, u2))\n"
   ],
   "metadata": {
    "collapsed": false,
    "pycharm": {
     "name": "#%%\n"
    }
   }
  },
  {
   "cell_type": "code",
   "execution_count": 46,
   "outputs": [
    {
     "data": {
      "text/plain": "-829.8077575642455"
     },
     "execution_count": 46,
     "metadata": {},
     "output_type": "execute_result"
    }
   ],
   "source": [
    "4/(1-.99)*1/(1-.99) - 349.98484676350046*116.66164445443718\n"
   ],
   "metadata": {
    "collapsed": false,
    "pycharm": {
     "name": "#%%\n"
    }
   }
  },
  {
   "cell_type": "code",
   "execution_count": 38,
   "outputs": [
    {
     "data": {
      "text/plain": "99.99999999999991"
     },
     "execution_count": 38,
     "metadata": {},
     "output_type": "execute_result"
    }
   ],
   "source": [
    "1/(1-.99)"
   ],
   "metadata": {
    "collapsed": false,
    "pycharm": {
     "name": "#%%\n"
    }
   }
  },
  {
   "cell_type": "code",
   "execution_count": null,
   "outputs": [],
   "source": [],
   "metadata": {
    "collapsed": false,
    "pycharm": {
     "name": "#%%\n"
    }
   }
  }
 ],
 "metadata": {
  "kernelspec": {
   "display_name": "Python 3",
   "language": "python",
   "name": "python3"
  },
  "language_info": {
   "codemirror_mode": {
    "name": "ipython",
    "version": 2
   },
   "file_extension": ".py",
   "mimetype": "text/x-python",
   "name": "python",
   "nbconvert_exporter": "python",
   "pygments_lexer": "ipython2",
   "version": "2.7.6"
  }
 },
 "nbformat": 4,
 "nbformat_minor": 0
}