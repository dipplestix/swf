{
 "cells": [
  {
   "cell_type": "code",
   "execution_count": 18,
   "outputs": [
    {
     "name": "stdout",
     "output_type": "stream",
     "text": [
      "I have selected action a at time step 2\n",
      "I have selected action a at time step 4\n",
      "I have selected action a at time step 6\n",
      "I have selected action a at time step 8\n",
      "I have selected action a at time step 10\n",
      "I have selected action a at time step 12\n",
      "I have selected action a at time step 14\n",
      "I have selected action a at time step 16\n",
      "I have selected action a at time step 18\n",
      "I have selected action a at time step 20\n",
      "I have selected action a at time step 22\n",
      "I have selected action a at time step 24\n",
      "I have selected action a at time step 27\n",
      "7.000000037252903\n",
      "2.333333320915699\n",
      "16.333333333333332\n"
     ]
    }
   ],
   "source": [
    "u1 = 0\n",
    "u2 = 0\n",
    "gamma = .5\n",
    "\n",
    "def swf(u1, u2):\n",
    "    return u1*u2\n",
    "\n",
    "for t in range(100000):\n",
    "    g = gamma**t\n",
    "    val_a = swf(u1 + g*1, u2 + g*2)\n",
    "    val_b = swf(u1 + g*4, u2 + g*1)\n",
    "    if val_a > val_b:\n",
    "        print(f'I have selected action a at time step {t}')\n",
    "        u1 += g*1\n",
    "        u2 += g*2\n",
    "    else:\n",
    "        # print(f'I have selected action b at time step {t}')\n",
    "        u1 += g*4\n",
    "        u2 += g*1\n",
    "print(u1)\n",
    "print(u2)\n",
    "print(swf(u1, u2))"
   ],
   "metadata": {
    "collapsed": false,
    "pycharm": {
     "name": "#%%\n"
    }
   }
  },
  {
   "cell_type": "code",
   "execution_count": 13,
   "outputs": [
    {
     "name": "stdout",
     "output_type": "stream",
     "text": [
      "8.0\n",
      "2.0\n",
      "16.0\n"
     ]
    }
   ],
   "source": [
    "u1 = 0\n",
    "u2 = 0\n",
    "gamma = .5\n",
    "\n",
    "def swf(u1, u2):\n",
    "    return u1*u2\n",
    "\n",
    "for t in range(1000):\n",
    "    g = gamma**t\n",
    "    val_a = swf(u1 + g*1, u2 + g*2)\n",
    "    val_b = swf(u1 + g*4, u2 + g*1)\n",
    "    u1 += g*4\n",
    "    u2 += g*1\n",
    "print(swf(u1, u2))"
   ],
   "metadata": {
    "collapsed": false,
    "pycharm": {
     "name": "#%%\n"
    }
   }
  },
  {
   "cell_type": "code",
   "execution_count": null,
   "outputs": [],
   "source": [
    "u1 = 0\n",
    "u2 = 0\n",
    "gamma = .5\n",
    "\n",
    "\n",
    "def swf(u1, u2):\n",
    "    return u1*u2\n",
    "\n",
    "\n",
    "for t in range(1000):\n",
    "    g = gamma ** t\n",
    "    val_a = swf(u1 + g*1, u2 + g*2)\n",
    "    val_b = swf(u1 + g*4, u2 + g*1)\n",
    "    if val_a>val_b:\n",
    "        print(f'I have selected action a at time step {t}')\n",
    "        u1 += g*1\n",
    "        u2 += g*2\n",
    "    else:\n",
    "        print(f'I have selected action b at time step {t}')\n",
    "        u1 += g*4\n",
    "        u2 += g*1\n",
    "print(swf(u1, u2))\n"
   ],
   "metadata": {
    "collapsed": false,
    "pycharm": {
     "name": "#%%\n"
    }
   }
  }
 ],
 "metadata": {
  "kernelspec": {
   "display_name": "Python 3",
   "language": "python",
   "name": "python3"
  },
  "language_info": {
   "codemirror_mode": {
    "name": "ipython",
    "version": 2
   },
   "file_extension": ".py",
   "mimetype": "text/x-python",
   "name": "python",
   "nbconvert_exporter": "python",
   "pygments_lexer": "ipython2",
   "version": "2.7.6"
  }
 },
 "nbformat": 4,
 "nbformat_minor": 0
}