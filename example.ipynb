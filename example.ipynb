{
 "cells": [
  {
   "cell_type": "code",
   "execution_count": 102,
   "outputs": [
    {
     "name": "stdout",
     "output_type": "stream",
     "text": [
      "0\n",
      "10\n",
      "20\n",
      "30\n",
      "40\n",
      "50\n",
      "60\n",
      "70\n",
      "80\n",
      "90\n"
     ]
    }
   ],
   "source": [
    "import numpy as np\n",
    "\n",
    "# gamma = .5\n",
    "\n",
    "def swf(u1, u2):\n",
    "    return np.sum(np.log([u1, u2]))\n",
    "    # return u1*u2\n",
    "\n",
    "myopic = []\n",
    "utils = []\n",
    "for gamma in range(98):\n",
    "    u1 = 1\n",
    "    u2 = 1\n",
    "    if gamma % 10 == 0:\n",
    "        print(gamma)\n",
    "    gamma = (gamma+1)/100\n",
    "    for t in range(10000):\n",
    "        g = gamma**t\n",
    "        val_a = swf(u1 + g*1, u2 + g*2) - swf(u1, u2)\n",
    "        val_b = swf(u1 + g*3, u2 + g*1) - swf(u1, u2)\n",
    "        if val_a >= val_b:\n",
    "            # print(f'I have selected action a at time step {t}')\n",
    "            u1 += g*1\n",
    "            u2 += g*2\n",
    "        else:\n",
    "            # print(f'I have selected action b at time step {t}')\n",
    "            u1 += g*3\n",
    "            u2 += g*1\n",
    "    utils.append(swf(u1, u2))\n",
    "    myopic.append(swf(4/(1-gamma), 1/(1-gamma)))\n"
   ],
   "metadata": {
    "collapsed": false,
    "pycharm": {
     "name": "#%%\n"
    }
   }
  },
  {
   "cell_type": "code",
   "execution_count": 103,
   "outputs": [
    {
     "data": {
      "text/plain": "<Figure size 432x288 with 1 Axes>",
      "image/png": "[encoded data removed]"
     },
     "metadata": {
      "needs_background": "light"
     },
     "output_type": "display_data"
    }
   ],
   "source": [
    "import matplotlib.pyplot as plt\n",
    "\n",
    "fig = plt.figure()\n",
    "x = np.arange(.01, .99, .01)\n",
    "ax = fig.add_subplot()\n",
    "ax.plot(x, myopic, label='Myopic')\n",
    "ax.plot(x, utils, '--', label='Global')\n",
    "x_ticks = [(a + 1)/100 for a in range(99)]\n",
    "x = range(99)\n",
    "plt.xlabel('Gamma')\n",
    "plt.ylabel('Log Social Welfare')\n",
    "# ax.set_xticks(np.arange(0, 100, 5))\n",
    "# [l.set_visible(False) for (i,l) in enumerate(plt.xaxis.get_ticklabels()) if i % 10 != 0]\n",
    "\n",
    "plt.legend()\n",
    "plt.savefig('example1.png')"
   ],
   "metadata": {
    "collapsed": false,
    "pycharm": {
     "name": "#%%\n"
    }
   }
  },
  {
   "cell_type": "code",
   "execution_count": null,
   "outputs": [],
   "source": [],
   "metadata": {
    "collapsed": false,
    "pycharm": {
     "name": "#%%\n"
    }
   }
  }
 ],
 "metadata": {
  "kernelspec": {
   "display_name": "Python 3",
   "language": "python",
   "name": "python3"
  },
  "language_info": {
   "codemirror_mode": {
    "name": "ipython",
    "version": 2
   },
   "file_extension": ".py",
   "mimetype": "text/x-python",
   "name": "python",
   "nbconvert_exporter": "python",
   "pygments_lexer": "ipython2",
   "version": "2.7.6"
  }
 },
 "nbformat": 4,
 "nbformat_minor": 0
}